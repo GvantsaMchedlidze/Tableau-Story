{
 "cells": [
  {
   "cell_type": "markdown",
   "metadata": {},
   "source": [
    "# Flights data 2001\n",
    "\n",
    "https://public.tableau.com/profile/gvantsa#!/vizhome/Flightsdata2001/Story1\n",
    "\n",
    "Presented the flights data of 2001 using visualised using Tableau.\n",
    "\n",
    "## Feedback\n",
    "\n",
    "- What do you notice in the visualization?\n",
    "The visuaisation describes the data in different ways and have clear findings.\n",
    "\n",
    "- What questions do you have about the data?\n",
    "The reasons of cancellation, divertation and delays.\n",
    "\n",
    "- What relationships do you notice?\n",
    "The total rate of diverted is very low, also cancelation rate is also low. The most relable and used carrier is  WN.\n",
    "\n",
    "### suggestions:\n",
    "\n",
    "- Increase slide description box sizes;\n",
    "- sl2. The Most popular Direction plot is hard to perceive. \n",
    "- sl5. plot \"Diverted Direction\" better to be updated findings are not very clear. "
   ]
  },
  {
   "cell_type": "markdown",
   "metadata": {
    "collapsed": true
   },
   "source": [
    "## After taking suggestions into account\n",
    "\n",
    "https://public.tableau.com/profile/gvantsa#!/vizhome/Flightsdata2001_updated/Story1"
   ]
  }
 ],
 "metadata": {
  "kernelspec": {
   "display_name": "Python 2",
   "language": "python",
   "name": "python2"
  },
  "language_info": {
   "codemirror_mode": {
    "name": "ipython",
    "version": 2
   },
   "file_extension": ".py",
   "mimetype": "text/x-python",
   "name": "python",
   "nbconvert_exporter": "python",
   "pygments_lexer": "ipython2",
   "version": "2.7.13"
  }
 },
 "nbformat": 4,
 "nbformat_minor": 2
}
