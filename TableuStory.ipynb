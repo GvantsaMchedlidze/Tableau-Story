{
 "cells": [
  {
   "cell_type": "markdown",
   "metadata": {},
   "source": [
    "# Flights data 2001\n",
    "\n",
    "https://public.tableau.com/profile/gvantsa#!/vizhome/Flightsdata2001/Story1\n",
    "\n",
    "Presented the flights data of 2001 using visualised using Tableau.\n",
    "## Summary\n",
    "The data contains information about flight directions, carriers, delays of flights, cancellation, diverting.\n",
    "The reasons of cancellation or any other flight interruption reasons aren't discribed in data for giver year.\n",
    "As a result we can clearly see that there are very few diverted flights. Cancellation rate is less than 4%. 27% of total flights from LAX is to LAS and 26% of total flights from LAS to LAX. WN is the most used and relable carrier. \n",
    "\n",
    "## Design\n",
    "\n",
    "For Airport location visualisation was used symbol maps to be better perceive. Number of records comparisons was used horizontal ordered bars to see the hoe different are numbers from each other. For rate comparisons was used pie charts to be seen fraction size of event in deferent cases. Color codeing was used to separate and sort the sings like, seasons, unique carriers, canncelation etc. Packed bubbles was used in order to categorise several measure values and vissually better precive the meanings of values. The filters were used to have more chance study the data in more details. e.g we want to know where flys carrier  AA. \n",
    "\n",
    "\n",
    "## Feedback\n",
    "\n",
    "- What do you notice in the visualization?\n",
    "The visuaisation describes the data in different ways and have clear findings.\n",
    "\n",
    "- What questions do you have about the data?\n",
    "The reasons of cancellation, divertation and delays.\n",
    "\n",
    "- What relationships do you notice?\n",
    "The total rate of diverted is very low, also cancellation rate is also low. The most relable and used carrier is  WN.\n",
    "\n",
    "### suggestions:\n",
    "\n",
    "- Increase slide description box sizes;\n",
    "- sl2. The Most popular Direction plot is hard to perceive. \n",
    "- sl5. plot \"Diverted Direction\" better to be updated findings are not very clear. "
   ]
  },
  {
   "cell_type": "markdown",
   "metadata": {
    "collapsed": true
   },
   "source": [
    "## After taking suggestions into account\n",
    "\n",
    "- sl2. The Most popular Direction plot is hard to perceive. \n",
    "The plot was moved to new separated slide.\n",
    "\n",
    "- sl5. plot \"Diverted Direction\" better to be updated findings are not very clear.\n",
    "This plot was updated: color coding is changed also instead of raw numbers is used precentage\n",
    "\n",
    "https://public.tableau.com/profile/gvantsa#!/vizhome/Flightsdata2001_updated/Story1"
   ]
  },
  {
   "cell_type": "markdown",
   "metadata": {},
   "source": [
    "## Reviews Feedback\n",
    "1- I don't recommend using \"number of records\" as a label. Instead, we can replace \"records\" with our target attribute like \"flights\". This can make the visualization more clear.\n",
    "\n",
    "2- It is a good practice to avoid using abbreviations in the legends and labels like \"Arr,\" \"Dep\". Instead, we can replace them with the full words to make the visualization more clear and less confusing.\n",
    "\n",
    "3- Suggestion: Red-Green colors are not a good choice for using in comparisons since they are not color-blind friendly colors. The people with this disorder are not able to distinguish this two colors.\n",
    "\n",
    "4- The following legend is not very clear. We should avoid conditional abbreviations and instead use a simple plain expression. For example, \"Average Cancelation greater than ...\"\n",
    "\n",
    "## After taking suggestions into account\n",
    "Suggestions about lables and titles were takan into account in all places needed. Red-Green color coding was changed on slide3.\n",
    "\n",
    "https://public.tableau.com/profile/gvantsa#!/vizhome/Flightsdata2001_updatedafterreviews/Story1"
   ]
  }
 ],
 "metadata": {
  "kernelspec": {
   "display_name": "Python 2",
   "language": "python",
   "name": "python2"
  },
  "language_info": {
   "codemirror_mode": {
    "name": "ipython",
    "version": 2
   },
   "file_extension": ".py",
   "mimetype": "text/x-python",
   "name": "python",
   "nbconvert_exporter": "python",
   "pygments_lexer": "ipython2",
   "version": "2.7.13"
  }
 },
 "nbformat": 4,
 "nbformat_minor": 2
}
